{
 "cells": [
  {
   "cell_type": "code",
   "execution_count": 1,
   "metadata": {},
   "outputs": [],
   "source": [
    "import torch"
   ]
  },
  {
   "cell_type": "markdown",
   "metadata": {},
   "source": [
    "- view/reshape\n",
    "- squeeze/unsqueeze\n",
    "- transpose/t/permute\n",
    "- expand/repeat"
   ]
  },
  {
   "cell_type": "code",
   "execution_count": 2,
   "metadata": {},
   "outputs": [],
   "source": [
    "a = torch.rand(4,1,28,28)"
   ]
  },
  {
   "cell_type": "code",
   "execution_count": 3,
   "metadata": {},
   "outputs": [
    {
     "data": {
      "text/plain": [
       "torch.Size([4, 1, 28, 28])"
      ]
     },
     "execution_count": 3,
     "metadata": {},
     "output_type": "execute_result"
    }
   ],
   "source": [
    "a.shape"
   ]
  },
  {
   "cell_type": "code",
   "execution_count": 4,
   "metadata": {},
   "outputs": [
    {
     "data": {
      "text/plain": [
       "tensor([[0.8294, 0.3213, 0.4493,  ..., 0.4043, 0.8190, 0.5407],\n",
       "        [0.0663, 0.3845, 0.2904,  ..., 0.0370, 0.2697, 0.2138],\n",
       "        [0.4975, 0.4593, 0.9738,  ..., 0.4301, 0.5875, 0.0424],\n",
       "        [0.8592, 0.7931, 0.3729,  ..., 0.0752, 0.0073, 0.0692]])"
      ]
     },
     "execution_count": 4,
     "metadata": {},
     "output_type": "execute_result"
    }
   ],
   "source": [
    "a.view(4,28*28)"
   ]
  },
  {
   "cell_type": "code",
   "execution_count": 5,
   "metadata": {},
   "outputs": [
    {
     "data": {
      "text/plain": [
       "torch.Size([4, 784])"
      ]
     },
     "execution_count": 5,
     "metadata": {},
     "output_type": "execute_result"
    }
   ],
   "source": [
    "a.view(4,28*28).shape"
   ]
  },
  {
   "cell_type": "code",
   "execution_count": 6,
   "metadata": {},
   "outputs": [
    {
     "data": {
      "text/plain": [
       "torch.Size([112, 28])"
      ]
     },
     "execution_count": 6,
     "metadata": {},
     "output_type": "execute_result"
    }
   ],
   "source": [
    "a.view(4*28, 28).shape"
   ]
  },
  {
   "cell_type": "code",
   "execution_count": 7,
   "metadata": {},
   "outputs": [
    {
     "data": {
      "text/plain": [
       "torch.Size([4, 28, 28])"
      ]
     },
     "execution_count": 7,
     "metadata": {},
     "output_type": "execute_result"
    }
   ],
   "source": [
    "a.view(4*1,28, 28).shape"
   ]
  },
  {
   "cell_type": "code",
   "execution_count": 8,
   "metadata": {},
   "outputs": [],
   "source": [
    "b = a.view(4,784)"
   ]
  },
  {
   "cell_type": "code",
   "execution_count": 10,
   "metadata": {
    "collapsed": true
   },
   "outputs": [
    {
     "data": {
      "text/plain": [
       "tensor([[[[0.8294],\n",
       "          [0.3213],\n",
       "          [0.4493],\n",
       "          ...,\n",
       "          [0.3511],\n",
       "          [0.4465],\n",
       "          [0.9296]],\n",
       "\n",
       "         [[0.9147],\n",
       "          [0.5998],\n",
       "          [0.0938],\n",
       "          ...,\n",
       "          [0.2331],\n",
       "          [0.4669],\n",
       "          [0.5795]],\n",
       "\n",
       "         [[0.4976],\n",
       "          [0.0111],\n",
       "          [0.7027],\n",
       "          ...,\n",
       "          [0.3455],\n",
       "          [0.7832],\n",
       "          [0.9325]],\n",
       "\n",
       "         ...,\n",
       "\n",
       "         [[0.3924],\n",
       "          [0.3571],\n",
       "          [0.2791],\n",
       "          ...,\n",
       "          [0.5132],\n",
       "          [0.8822],\n",
       "          [0.1284]],\n",
       "\n",
       "         [[0.3642],\n",
       "          [0.5060],\n",
       "          [0.2231],\n",
       "          ...,\n",
       "          [0.4750],\n",
       "          [0.3390],\n",
       "          [0.3427]],\n",
       "\n",
       "         [[0.1059],\n",
       "          [0.7273],\n",
       "          [0.2374],\n",
       "          ...,\n",
       "          [0.4043],\n",
       "          [0.8190],\n",
       "          [0.5407]]],\n",
       "\n",
       "\n",
       "        [[[0.0663],\n",
       "          [0.3845],\n",
       "          [0.2904],\n",
       "          ...,\n",
       "          [0.6571],\n",
       "          [0.0065],\n",
       "          [0.1103]],\n",
       "\n",
       "         [[0.3505],\n",
       "          [0.4791],\n",
       "          [0.4128],\n",
       "          ...,\n",
       "          [0.1684],\n",
       "          [0.5945],\n",
       "          [0.7163]],\n",
       "\n",
       "         [[0.3233],\n",
       "          [0.1732],\n",
       "          [0.2300],\n",
       "          ...,\n",
       "          [0.9324],\n",
       "          [0.2372],\n",
       "          [0.7894]],\n",
       "\n",
       "         ...,\n",
       "\n",
       "         [[0.2487],\n",
       "          [0.3432],\n",
       "          [0.0501],\n",
       "          ...,\n",
       "          [0.5269],\n",
       "          [0.4077],\n",
       "          [0.6916]],\n",
       "\n",
       "         [[0.6695],\n",
       "          [0.5065],\n",
       "          [0.6475],\n",
       "          ...,\n",
       "          [0.1575],\n",
       "          [0.2063],\n",
       "          [0.4403]],\n",
       "\n",
       "         [[0.0890],\n",
       "          [0.0912],\n",
       "          [0.2745],\n",
       "          ...,\n",
       "          [0.0370],\n",
       "          [0.2697],\n",
       "          [0.2138]]],\n",
       "\n",
       "\n",
       "        [[[0.4975],\n",
       "          [0.4593],\n",
       "          [0.9738],\n",
       "          ...,\n",
       "          [0.8184],\n",
       "          [0.6673],\n",
       "          [0.7159]],\n",
       "\n",
       "         [[0.5051],\n",
       "          [0.9120],\n",
       "          [0.1995],\n",
       "          ...,\n",
       "          [0.5901],\n",
       "          [0.7759],\n",
       "          [0.3771]],\n",
       "\n",
       "         [[0.0033],\n",
       "          [0.6857],\n",
       "          [0.9240],\n",
       "          ...,\n",
       "          [0.9003],\n",
       "          [0.5305],\n",
       "          [0.1766]],\n",
       "\n",
       "         ...,\n",
       "\n",
       "         [[0.8976],\n",
       "          [0.4800],\n",
       "          [0.8240],\n",
       "          ...,\n",
       "          [0.7691],\n",
       "          [0.7919],\n",
       "          [0.7564]],\n",
       "\n",
       "         [[0.1706],\n",
       "          [0.4739],\n",
       "          [0.4742],\n",
       "          ...,\n",
       "          [0.8104],\n",
       "          [0.8353],\n",
       "          [0.6752]],\n",
       "\n",
       "         [[0.0886],\n",
       "          [0.5994],\n",
       "          [0.7184],\n",
       "          ...,\n",
       "          [0.4301],\n",
       "          [0.5875],\n",
       "          [0.0424]]],\n",
       "\n",
       "\n",
       "        [[[0.8592],\n",
       "          [0.7931],\n",
       "          [0.3729],\n",
       "          ...,\n",
       "          [0.2948],\n",
       "          [0.6911],\n",
       "          [0.1063]],\n",
       "\n",
       "         [[0.8864],\n",
       "          [0.0782],\n",
       "          [0.7434],\n",
       "          ...,\n",
       "          [0.4868],\n",
       "          [0.0468],\n",
       "          [0.0797]],\n",
       "\n",
       "         [[0.0698],\n",
       "          [0.4396],\n",
       "          [0.9708],\n",
       "          ...,\n",
       "          [0.0168],\n",
       "          [0.8328],\n",
       "          [0.2729]],\n",
       "\n",
       "         ...,\n",
       "\n",
       "         [[0.9848],\n",
       "          [0.7148],\n",
       "          [0.4986],\n",
       "          ...,\n",
       "          [0.9938],\n",
       "          [0.7126],\n",
       "          [0.0792]],\n",
       "\n",
       "         [[0.3634],\n",
       "          [0.2362],\n",
       "          [0.9048],\n",
       "          ...,\n",
       "          [0.4628],\n",
       "          [0.1425],\n",
       "          [0.6086]],\n",
       "\n",
       "         [[0.5350],\n",
       "          [0.4018],\n",
       "          [0.5287],\n",
       "          ...,\n",
       "          [0.0752],\n",
       "          [0.0073],\n",
       "          [0.0692]]]])"
      ]
     },
     "execution_count": 10,
     "metadata": {},
     "output_type": "execute_result"
    }
   ],
   "source": [
    "b.view(4, 28, 28, 1)"
   ]
  },
  {
   "cell_type": "code",
   "execution_count": 11,
   "metadata": {},
   "outputs": [
    {
     "data": {
      "text/plain": [
       "torch.Size([1, 4, 1, 28, 28])"
      ]
     },
     "execution_count": 11,
     "metadata": {},
     "output_type": "execute_result"
    }
   ],
   "source": [
    "a.unsqueeze(0).shape"
   ]
  },
  {
   "cell_type": "code",
   "execution_count": 12,
   "metadata": {},
   "outputs": [
    {
     "data": {
      "text/plain": [
       "torch.Size([4, 1, 28, 28, 1])"
      ]
     },
     "execution_count": 12,
     "metadata": {},
     "output_type": "execute_result"
    }
   ],
   "source": [
    "a.unsqueeze(-1).shape"
   ]
  },
  {
   "cell_type": "code",
   "execution_count": 14,
   "metadata": {},
   "outputs": [
    {
     "data": {
      "text/plain": [
       "torch.Size([4, 1, 28, 28, 1])"
      ]
     },
     "execution_count": 14,
     "metadata": {},
     "output_type": "execute_result"
    }
   ],
   "source": [
    "a.unsqueeze(4).shape"
   ]
  },
  {
   "cell_type": "code",
   "execution_count": 16,
   "metadata": {},
   "outputs": [
    {
     "data": {
      "text/plain": [
       "torch.Size([4, 1, 28, 1, 28])"
      ]
     },
     "execution_count": 16,
     "metadata": {},
     "output_type": "execute_result"
    }
   ],
   "source": [
    "a.unsqueeze(3).shape"
   ]
  },
  {
   "cell_type": "code",
   "execution_count": 17,
   "metadata": {},
   "outputs": [],
   "source": [
    "b = torch.rand(32)"
   ]
  },
  {
   "cell_type": "code",
   "execution_count": 18,
   "metadata": {},
   "outputs": [],
   "source": [
    "f = torch.rand(4,32,14,14)"
   ]
  },
  {
   "cell_type": "code",
   "execution_count": 19,
   "metadata": {},
   "outputs": [],
   "source": [
    "b = b.unsqueeze(1).unsqueeze(2).unsqueeze(0)"
   ]
  },
  {
   "cell_type": "code",
   "execution_count": 20,
   "metadata": {},
   "outputs": [
    {
     "data": {
      "text/plain": [
       "torch.Size([1, 32, 1, 1])"
      ]
     },
     "execution_count": 20,
     "metadata": {},
     "output_type": "execute_result"
    }
   ],
   "source": [
    "b.shape"
   ]
  },
  {
   "cell_type": "code",
   "execution_count": 21,
   "metadata": {},
   "outputs": [
    {
     "data": {
      "text/plain": [
       "torch.Size([32])"
      ]
     },
     "execution_count": 21,
     "metadata": {},
     "output_type": "execute_result"
    }
   ],
   "source": [
    "b.squeeze().shape"
   ]
  },
  {
   "cell_type": "code",
   "execution_count": 22,
   "metadata": {},
   "outputs": [
    {
     "data": {
      "text/plain": [
       "torch.Size([32, 1, 1])"
      ]
     },
     "execution_count": 22,
     "metadata": {},
     "output_type": "execute_result"
    }
   ],
   "source": [
    "b.squeeze(0).shape"
   ]
  },
  {
   "cell_type": "code",
   "execution_count": 23,
   "metadata": {},
   "outputs": [
    {
     "data": {
      "text/plain": [
       "torch.Size([1, 32, 1])"
      ]
     },
     "execution_count": 23,
     "metadata": {},
     "output_type": "execute_result"
    }
   ],
   "source": [
    "b.squeeze(-1).shape"
   ]
  },
  {
   "cell_type": "code",
   "execution_count": 24,
   "metadata": {},
   "outputs": [
    {
     "data": {
      "text/plain": [
       "torch.Size([1, 32, 1, 1])"
      ]
     },
     "execution_count": 24,
     "metadata": {},
     "output_type": "execute_result"
    }
   ],
   "source": [
    "b.squeeze(1).shape"
   ]
  },
  {
   "cell_type": "code",
   "execution_count": 25,
   "metadata": {},
   "outputs": [
    {
     "data": {
      "text/plain": [
       "torch.Size([32, 1, 1])"
      ]
     },
     "execution_count": 25,
     "metadata": {},
     "output_type": "execute_result"
    }
   ],
   "source": [
    "b.squeeze(-4).shape"
   ]
  },
  {
   "cell_type": "code",
   "execution_count": 27,
   "metadata": {},
   "outputs": [
    {
     "data": {
      "text/plain": [
       "torch.Size([4, 32, 14, 14])"
      ]
     },
     "execution_count": 27,
     "metadata": {},
     "output_type": "execute_result"
    }
   ],
   "source": [
    "b.expand(4,32,14,14).shape"
   ]
  },
  {
   "cell_type": "code",
   "execution_count": 28,
   "metadata": {},
   "outputs": [
    {
     "data": {
      "text/plain": [
       "torch.Size([1, 32, 1, -4])"
      ]
     },
     "execution_count": 28,
     "metadata": {},
     "output_type": "execute_result"
    }
   ],
   "source": [
    "b.expand(1,32,1,-4).shape    #BUG"
   ]
  },
  {
   "cell_type": "code",
   "execution_count": 29,
   "metadata": {},
   "outputs": [
    {
     "data": {
      "text/plain": [
       "torch.Size([4, 1024, 1, 1])"
      ]
     },
     "execution_count": 29,
     "metadata": {},
     "output_type": "execute_result"
    }
   ],
   "source": [
    "b.repeat(4,32,1,1).shape"
   ]
  },
  {
   "cell_type": "code",
   "execution_count": 30,
   "metadata": {},
   "outputs": [
    {
     "data": {
      "text/plain": [
       "torch.Size([4, 32, 14, 14])"
      ]
     },
     "execution_count": 30,
     "metadata": {},
     "output_type": "execute_result"
    }
   ],
   "source": [
    "b.repeat(4,1,14,14).shape"
   ]
  },
  {
   "cell_type": "code",
   "execution_count": 31,
   "metadata": {},
   "outputs": [
    {
     "ename": "RuntimeError",
     "evalue": "t() expects a 2D tensor, but self is 4D",
     "output_type": "error",
     "traceback": [
      "\u001b[1;31m---------------------------------------------------------------------------\u001b[0m",
      "\u001b[1;31mRuntimeError\u001b[0m                              Traceback (most recent call last)",
      "\u001b[1;32m<ipython-input-31-b510e0f64f40>\u001b[0m in \u001b[0;36m<module>\u001b[1;34m\u001b[0m\n\u001b[1;32m----> 1\u001b[1;33m \u001b[0mb\u001b[0m\u001b[1;33m.\u001b[0m\u001b[0mt\u001b[0m\u001b[1;33m(\u001b[0m\u001b[1;33m)\u001b[0m\u001b[1;33m\u001b[0m\u001b[0m\n\u001b[0m",
      "\u001b[1;31mRuntimeError\u001b[0m: t() expects a 2D tensor, but self is 4D"
     ]
    }
   ],
   "source": [
    "b.t()"
   ]
  },
  {
   "cell_type": "code",
   "execution_count": 32,
   "metadata": {},
   "outputs": [
    {
     "data": {
      "text/plain": [
       "tensor([[ 1.6930, -0.1604,  0.4189],\n",
       "        [ 0.4306, -0.6174,  0.3226],\n",
       "        [-1.8549, -0.4381,  0.7126],\n",
       "        [-0.1741, -0.5649, -1.0423]])"
      ]
     },
     "execution_count": 32,
     "metadata": {},
     "output_type": "execute_result"
    }
   ],
   "source": [
    "a = torch.randn(3,4)\n",
    "a.t()"
   ]
  },
  {
   "cell_type": "code",
   "execution_count": 33,
   "metadata": {},
   "outputs": [
    {
     "data": {
      "text/plain": [
       "tensor([[ 1.6930,  0.4306, -1.8549, -0.1741],\n",
       "        [-0.1604, -0.6174, -0.4381, -0.5649],\n",
       "        [ 0.4189,  0.3226,  0.7126, -1.0423]])"
      ]
     },
     "execution_count": 33,
     "metadata": {},
     "output_type": "execute_result"
    }
   ],
   "source": [
    "a"
   ]
  },
  {
   "cell_type": "code",
   "execution_count": 36,
   "metadata": {},
   "outputs": [
    {
     "data": {
      "text/plain": [
       "tensor([[ 1.6930, -0.1604,  0.4189],\n",
       "        [ 0.4306, -0.6174,  0.3226],\n",
       "        [-1.8549, -0.4381,  0.7126],\n",
       "        [-0.1741, -0.5649, -1.0423]])"
      ]
     },
     "execution_count": 36,
     "metadata": {},
     "output_type": "execute_result"
    }
   ],
   "source": [
    "a.transpose(0,1)"
   ]
  },
  {
   "cell_type": "code",
   "execution_count": 37,
   "metadata": {},
   "outputs": [],
   "source": [
    "a = torch.randn(4,3,28,28)"
   ]
  },
  {
   "cell_type": "code",
   "execution_count": 38,
   "metadata": {},
   "outputs": [
    {
     "data": {
      "text/plain": [
       "torch.Size([4, 3, 28, 28])"
      ]
     },
     "execution_count": 38,
     "metadata": {},
     "output_type": "execute_result"
    }
   ],
   "source": [
    "a.shape"
   ]
  },
  {
   "cell_type": "code",
   "execution_count": 39,
   "metadata": {},
   "outputs": [
    {
     "data": {
      "text/plain": [
       "torch.Size([4, 28, 28, 3])"
      ]
     },
     "execution_count": 39,
     "metadata": {},
     "output_type": "execute_result"
    }
   ],
   "source": [
    "#任意交换维度\n",
    "a.permute(0,2,3,1).shape"
   ]
  },
  {
   "cell_type": "code",
   "execution_count": null,
   "metadata": {},
   "outputs": [],
   "source": []
  }
 ],
 "metadata": {
  "kernelspec": {
   "display_name": "Python 3",
   "language": "python",
   "name": "python3"
  },
  "language_info": {
   "codemirror_mode": {
    "name": "ipython",
    "version": 3
   },
   "file_extension": ".py",
   "mimetype": "text/x-python",
   "name": "python",
   "nbconvert_exporter": "python",
   "pygments_lexer": "ipython3",
   "version": "3.7.0"
  }
 },
 "nbformat": 4,
 "nbformat_minor": 4
}
