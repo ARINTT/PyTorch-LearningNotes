{
 "cells": [
  {
   "cell_type": "code",
   "execution_count": 22,
   "metadata": {},
   "outputs": [],
   "source": [
    "import torch\n",
    "import torchvision\n",
    "import torch.nn.functional as F"
   ]
  },
  {
   "cell_type": "code",
   "execution_count": 23,
   "metadata": {},
   "outputs": [],
   "source": [
    "train_loader = torch.utils.data.DataLoader(\n",
    "    torchvision.datasets.MNIST('mnist_data',train=True, download=True,\n",
    "                               transform=torchvision.transforms.Compose([\n",
    "                                   torchvision.transforms.ToTensor(),\n",
    "                                   torchvision.transforms.Normalize(\n",
    "                                       (0.1307,),(0.3081, ))\n",
    "                               ])),\n",
    "    batch_size=200, shuffle=True)\n",
    "\n",
    "test_loader = torch.utils.data.DataLoader(\n",
    "    torchvision.datasets.MNIST('mnist_data',train=False, download=True,\n",
    "                               transform=torchvision.transforms.Compose([\n",
    "                                   torchvision.transforms.ToTensor(),\n",
    "                                   torchvision.transforms.Normalize(\n",
    "                                       (0.1307,),(0.3081, ))\n",
    "                               ])),\n",
    "    batch_size=200, shuffle=True)"
   ]
  },
  {
   "cell_type": "code",
   "execution_count": 30,
   "metadata": {},
   "outputs": [],
   "source": [
    "w1 = torch.randn(200,784,requires_grad=True)\n",
    "b1 = torch.randn(200,requires_grad=True)\n",
    "w2 = torch.randn(200,200,requires_grad=True)\n",
    "b2 = torch.randn(200,requires_grad=True)\n",
    "w3 = torch.randn(10,200,requires_grad=True)\n",
    "b3 = torch.randn(10,requires_grad=True)"
   ]
  },
  {
   "cell_type": "code",
   "execution_count": 25,
   "metadata": {},
   "outputs": [
    {
     "data": {
      "text/plain": [
       "tensor([[-0.1358, -0.0360, -0.0545,  ..., -0.2844, -0.0529,  0.0405],\n",
       "        [ 0.0763, -0.0358, -0.0787,  ..., -0.0214,  0.0060,  0.1058],\n",
       "        [-0.0387, -0.0824, -0.1132,  ...,  0.0272,  0.1101, -0.0306],\n",
       "        ...,\n",
       "        [-0.0434,  0.0549,  0.0980,  ..., -0.0154, -0.0412,  0.1141],\n",
       "        [ 0.0676,  0.1171,  0.0294,  ...,  0.0701, -0.0571, -0.0504],\n",
       "        [-0.0504,  0.0371,  0.0581,  ...,  0.0493, -0.0357, -0.0786]],\n",
       "       requires_grad=True)"
      ]
     },
     "execution_count": 25,
     "metadata": {},
     "output_type": "execute_result"
    }
   ],
   "source": [
    "torch.nn.init.kaiming_normal_(w1)\n",
    "torch.nn.init.kaiming_normal_(w2)\n",
    "torch.nn.init.kaiming_normal_(w3)"
   ]
  },
  {
   "cell_type": "code",
   "execution_count": 26,
   "metadata": {},
   "outputs": [],
   "source": [
    "def forward(x):\n",
    "    x = x@w1.t() + b1\n",
    "    x = F.relu(x)\n",
    "    x = x@w2.t() + b2\n",
    "    x = F.relu(x)\n",
    "    x = x@w3.t() + b3\n",
    "    x = F.relu(x)\n",
    "    return x"
   ]
  },
  {
   "cell_type": "code",
   "execution_count": 27,
   "metadata": {},
   "outputs": [],
   "source": [
    "optimizer = torch.optim.SGD([w1,b1,w2,b2,w3,b3], lr=0.001)\n",
    "criterion = torch.nn.CrossEntropyLoss()"
   ]
  },
  {
   "cell_type": "code",
   "execution_count": 28,
   "metadata": {},
   "outputs": [
    {
     "name": "stdout",
     "output_type": "stream",
     "text": [
      "Train Epoch:0 [0/60000(0%)]\tLoss:4.258374\n",
      "Train Epoch:0 [20000/60000(33%)]\tLoss:2.204923\n",
      "Train Epoch:0 [40000/60000(67%)]\tLoss:1.904666\n",
      "\n",
      "Test set:Average loss:0.0086, Accuracy:4503/10000(45%)\n",
      "\n",
      "Train Epoch:1 [0/60000(0%)]\tLoss:1.728998\n",
      "Train Epoch:1 [20000/60000(33%)]\tLoss:1.389756\n",
      "Train Epoch:1 [40000/60000(67%)]\tLoss:1.317284\n",
      "\n",
      "Test set:Average loss:0.0058, Accuracy:6785/10000(67%)\n",
      "\n",
      "Train Epoch:2 [0/60000(0%)]\tLoss:1.100656\n",
      "Train Epoch:2 [20000/60000(33%)]\tLoss:1.067256\n",
      "Train Epoch:2 [40000/60000(67%)]\tLoss:0.818693\n",
      "\n",
      "Test set:Average loss:0.0045, Accuracy:7533/10000(75%)\n",
      "\n",
      "Train Epoch:3 [0/60000(0%)]\tLoss:0.853518\n",
      "Train Epoch:3 [20000/60000(33%)]\tLoss:0.818699\n",
      "Train Epoch:3 [40000/60000(67%)]\tLoss:0.722459\n",
      "\n",
      "Test set:Average loss:0.0039, Accuracy:7821/10000(78%)\n",
      "\n",
      "Train Epoch:4 [0/60000(0%)]\tLoss:0.768620\n",
      "Train Epoch:4 [20000/60000(33%)]\tLoss:0.922500\n",
      "Train Epoch:4 [40000/60000(67%)]\tLoss:0.641744\n",
      "\n",
      "Test set:Average loss:0.0036, Accuracy:7971/10000(79%)\n",
      "\n",
      "Train Epoch:5 [0/60000(0%)]\tLoss:0.552572\n",
      "Train Epoch:5 [20000/60000(33%)]\tLoss:0.724498\n",
      "Train Epoch:5 [40000/60000(67%)]\tLoss:0.807466\n",
      "\n",
      "Test set:Average loss:0.0034, Accuracy:8084/10000(80%)\n",
      "\n",
      "Train Epoch:6 [0/60000(0%)]\tLoss:0.768933\n",
      "Train Epoch:6 [20000/60000(33%)]\tLoss:0.610192\n",
      "Train Epoch:6 [40000/60000(67%)]\tLoss:0.768337\n",
      "\n",
      "Test set:Average loss:0.0032, Accuracy:8148/10000(81%)\n",
      "\n",
      "Train Epoch:7 [0/60000(0%)]\tLoss:0.716903\n",
      "Train Epoch:7 [20000/60000(33%)]\tLoss:0.625712\n",
      "Train Epoch:7 [40000/60000(67%)]\tLoss:0.711751\n",
      "\n",
      "Test set:Average loss:0.0031, Accuracy:8194/10000(81%)\n",
      "\n",
      "Train Epoch:8 [0/60000(0%)]\tLoss:0.574163\n",
      "Train Epoch:8 [20000/60000(33%)]\tLoss:0.637493\n",
      "Train Epoch:8 [40000/60000(67%)]\tLoss:0.564622\n",
      "\n",
      "Test set:Average loss:0.0030, Accuracy:8243/10000(82%)\n",
      "\n",
      "Train Epoch:9 [0/60000(0%)]\tLoss:0.624817\n",
      "Train Epoch:9 [20000/60000(33%)]\tLoss:0.585333\n",
      "Train Epoch:9 [40000/60000(67%)]\tLoss:0.588898\n",
      "\n",
      "Test set:Average loss:0.0029, Accuracy:8274/10000(82%)\n",
      "\n"
     ]
    }
   ],
   "source": [
    "for epoch in range(10):\n",
    "    for batch_idx,(data, target) in enumerate(train_loader):\n",
    "        data = data.view(-1, 28*28)\n",
    "        logits = forward(data)\n",
    "        loss = criterion(logits, target)\n",
    "        optimizer.zero_grad()\n",
    "        loss.backward()\n",
    "        optimizer.step()\n",
    "        if batch_idx % 100 == 0:\n",
    "            print('Train Epoch:{} [{}/{}({:.0f}%)]\\tLoss:{:.6f}'.format(\n",
    "            epoch, batch_idx * len(data), len(train_loader.dataset),\n",
    "            100.*batch_idx / len(train_loader), loss.item()))\n",
    "    test_loss = 0\n",
    "    correct = 0\n",
    "    for data, target in test_loader:\n",
    "        data = data.view(-1, 28*28)\n",
    "        logits = forward(data)\n",
    "        test_loss += criterion(logits, target).item()\n",
    "        pred = logits.data.max(1)[1]\n",
    "        correct += pred.eq(target.data).sum()\n",
    "    test_loss /= len(test_loader.dataset)\n",
    "    print('\\nTest set:Average loss:{:.4f}, Accuracy:{}/{}({:.0f}%)\\n'.format(\n",
    "            test_loss, correct, len(test_loader.dataset), \n",
    "        100. * correct / len(test_loader.dataset)))"
   ]
  },
  {
   "cell_type": "code",
   "execution_count": null,
   "metadata": {},
   "outputs": [],
   "source": []
  }
 ],
 "metadata": {
  "kernelspec": {
   "display_name": "Python 3",
   "language": "python",
   "name": "python3"
  },
  "language_info": {
   "codemirror_mode": {
    "name": "ipython",
    "version": 3
   },
   "file_extension": ".py",
   "mimetype": "text/x-python",
   "name": "python",
   "nbconvert_exporter": "python",
   "pygments_lexer": "ipython3",
   "version": "3.7.0"
  }
 },
 "nbformat": 4,
 "nbformat_minor": 4
}
