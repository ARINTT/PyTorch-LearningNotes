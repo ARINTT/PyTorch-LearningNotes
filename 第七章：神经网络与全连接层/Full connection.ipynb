{
 "cells": [
  {
   "cell_type": "code",
   "execution_count": 8,
   "metadata": {},
   "outputs": [],
   "source": [
    "import torch\n",
    "import torchvision\n",
    "import torch.nn as nn"
   ]
  },
  {
   "cell_type": "code",
   "execution_count": 9,
   "metadata": {},
   "outputs": [],
   "source": [
    "train_loader = torch.utils.data.DataLoader(\n",
    "    torchvision.datasets.MNIST('mnist_data',train=True, download=True,\n",
    "                               transform=torchvision.transforms.Compose([\n",
    "                                   torchvision.transforms.ToTensor(),\n",
    "                                   torchvision.transforms.Normalize(\n",
    "                                       (0.1307,),(0.3081, ))\n",
    "                               ])),\n",
    "    batch_size=200, shuffle=True)\n",
    "\n",
    "test_loader = torch.utils.data.DataLoader(\n",
    "    torchvision.datasets.MNIST('mnist_data',train=False, download=True,\n",
    "                               transform=torchvision.transforms.Compose([\n",
    "                                   torchvision.transforms.ToTensor(),\n",
    "                                   torchvision.transforms.Normalize(\n",
    "                                       (0.1307,),(0.3081, ))\n",
    "                               ])),\n",
    "    batch_size=200, shuffle=True)"
   ]
  },
  {
   "cell_type": "code",
   "execution_count": 10,
   "metadata": {},
   "outputs": [],
   "source": [
    "class FC(nn.Module):\n",
    "    def __init__(self):\n",
    "        super(FC, self).__init__()\n",
    "        self.model = nn.Sequential(\n",
    "            nn.Linear(784, 200),\n",
    "            nn.ReLU(inplace=True),\n",
    "            nn.Linear(200, 200),\n",
    "            nn.ReLU(inplace=True),\n",
    "            nn.Linear(200, 10),\n",
    "            nn.ReLU(inplace=True),\n",
    "        )\n",
    "    def forward(self, x):\n",
    "        x = self.model(x)\n",
    "        return x"
   ]
  },
  {
   "cell_type": "code",
   "execution_count": 11,
   "metadata": {},
   "outputs": [],
   "source": [
    "net = FC()\n",
    "optimizer = torch.optim.SGD(net.parameters(),lr=0.001)\n",
    "criterion = nn.CrossEntropyLoss()"
   ]
  },
  {
   "cell_type": "code",
   "execution_count": 16,
   "metadata": {},
   "outputs": [
    {
     "name": "stdout",
     "output_type": "stream",
     "text": [
      "Train Epoch:0 [0/60000(0%)]\tLoss:1.558262\n",
      "Train Epoch:0 [20000/60000(33%)]\tLoss:1.564007\n",
      "Train Epoch:0 [40000/60000(67%)]\tLoss:1.566691\n",
      "\n",
      "Test set:Average loss:0.0072, Accuracy:6497/10000(64%)\n",
      "\n",
      "Train Epoch:1 [0/60000(0%)]\tLoss:1.477453\n",
      "Train Epoch:1 [20000/60000(33%)]\tLoss:1.471654\n",
      "Train Epoch:1 [40000/60000(67%)]\tLoss:1.261811\n",
      "\n",
      "Test set:Average loss:0.0066, Accuracy:6704/10000(67%)\n",
      "\n",
      "Train Epoch:2 [0/60000(0%)]\tLoss:1.298015\n",
      "Train Epoch:2 [20000/60000(33%)]\tLoss:1.297214\n",
      "Train Epoch:2 [40000/60000(67%)]\tLoss:1.384179\n",
      "\n",
      "Test set:Average loss:0.0061, Accuracy:6846/10000(68%)\n",
      "\n",
      "Train Epoch:3 [0/60000(0%)]\tLoss:1.268490\n",
      "Train Epoch:3 [20000/60000(33%)]\tLoss:1.221028\n",
      "Train Epoch:3 [40000/60000(67%)]\tLoss:1.142533\n",
      "\n",
      "Test set:Average loss:0.0057, Accuracy:6947/10000(69%)\n",
      "\n",
      "Train Epoch:4 [0/60000(0%)]\tLoss:1.215630\n",
      "Train Epoch:4 [20000/60000(33%)]\tLoss:1.067522\n",
      "Train Epoch:4 [40000/60000(67%)]\tLoss:1.139433\n",
      "\n",
      "Test set:Average loss:0.0054, Accuracy:7006/10000(70%)\n",
      "\n",
      "Train Epoch:5 [0/60000(0%)]\tLoss:1.077153\n",
      "Train Epoch:5 [20000/60000(33%)]\tLoss:1.068808\n",
      "Train Epoch:5 [40000/60000(67%)]\tLoss:1.132476\n",
      "\n",
      "Test set:Average loss:0.0052, Accuracy:7060/10000(70%)\n",
      "\n",
      "Train Epoch:6 [0/60000(0%)]\tLoss:1.232068\n",
      "Train Epoch:6 [20000/60000(33%)]\tLoss:0.956690\n",
      "Train Epoch:6 [40000/60000(67%)]\tLoss:1.004382\n",
      "\n",
      "Test set:Average loss:0.0050, Accuracy:7137/10000(71%)\n",
      "\n",
      "Train Epoch:7 [0/60000(0%)]\tLoss:1.052004\n",
      "Train Epoch:7 [20000/60000(33%)]\tLoss:0.981222\n",
      "Train Epoch:7 [40000/60000(67%)]\tLoss:0.971558\n",
      "\n",
      "Test set:Average loss:0.0049, Accuracy:7170/10000(71%)\n",
      "\n",
      "Train Epoch:8 [0/60000(0%)]\tLoss:1.023928\n",
      "Train Epoch:8 [20000/60000(33%)]\tLoss:1.041978\n",
      "Train Epoch:8 [40000/60000(67%)]\tLoss:0.880161\n",
      "\n",
      "Test set:Average loss:0.0047, Accuracy:7206/10000(72%)\n",
      "\n",
      "Train Epoch:9 [0/60000(0%)]\tLoss:0.983503\n",
      "Train Epoch:9 [20000/60000(33%)]\tLoss:1.146897\n",
      "Train Epoch:9 [40000/60000(67%)]\tLoss:0.869564\n",
      "\n",
      "Test set:Average loss:0.0046, Accuracy:7237/10000(72%)\n",
      "\n"
     ]
    }
   ],
   "source": [
    "for epoch in range(10):\n",
    "    for batch_idx, (data, target) in enumerate(train_loader):\n",
    "        data = data.view(-1, 28*28)\n",
    "        logits = net(data)\n",
    "        loss = criterion(logits, target)\n",
    "        optimizer.zero_grad()\n",
    "        loss.backward()\n",
    "        optimizer.step()\n",
    "        if batch_idx % 100 == 0:\n",
    "            print('Train Epoch:{} [{}/{}({:.0f}%)]\\tLoss:{:.6f}'.format(\n",
    "            epoch, batch_idx * len(data), len(train_loader.dataset),\n",
    "            100.*batch_idx / len(train_loader), loss.item()))\n",
    "    test_loss = 0\n",
    "    correct = 0\n",
    "    for data, target in test_loader:\n",
    "        data = data.view(-1, 28*28)\n",
    "        logits = net(data)\n",
    "        test_loss += criterion(logits, target).item()\n",
    "        pred = logits.data.max(1)[1]\n",
    "        correct += pred.eq(target.data).sum()\n",
    "    test_loss /= len(test_loader.dataset)\n",
    "    print('\\nTest set:Average loss:{:.4f}, Accuracy:{}/{}({:.0f}%)\\n'.format(\n",
    "            test_loss, correct, len(test_loader.dataset), \n",
    "        100. * correct / len(test_loader.dataset)))"
   ]
  },
  {
   "cell_type": "code",
   "execution_count": null,
   "metadata": {},
   "outputs": [],
   "source": []
  }
 ],
 "metadata": {
  "kernelspec": {
   "display_name": "Python 3",
   "language": "python",
   "name": "python3"
  },
  "language_info": {
   "codemirror_mode": {
    "name": "ipython",
    "version": 3
   },
   "file_extension": ".py",
   "mimetype": "text/x-python",
   "name": "python",
   "nbconvert_exporter": "python",
   "pygments_lexer": "ipython3",
   "version": "3.7.0"
  }
 },
 "nbformat": 4,
 "nbformat_minor": 4
}
